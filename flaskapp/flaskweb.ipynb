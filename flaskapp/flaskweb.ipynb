{
 "cells": [
  {
   "cell_type": "code",
   "execution_count": null,
   "metadata": {
    "scrolled": true
   },
   "outputs": [
    {
     "name": "stdout",
     "output_type": "stream",
     "text": [
      "Requirement already satisfied: Werkzeug in c:\\program files (x86)\\microsoft visual studio\\shared\\anaconda3_64\\lib\\site-packages\n"
     ]
    },
    {
     "name": "stderr",
     "output_type": "stream",
     "text": [
      "You are using pip version 9.0.1, however version 19.2.3 is available.\n",
      "You should consider upgrading via the 'python -m pip install --upgrade pip' command.\n"
     ]
    }
   ],
   "source": [
    "import sys \n",
    "\n",
    "!pip install Werkzeug\n",
    "\n"
   ]
  },
  {
   "cell_type": "code",
   "execution_count": null,
   "metadata": {},
   "outputs": [
    {
     "name": "stderr",
     "output_type": "stream",
     "text": [
      " * Running on http://localhost:9003/ (Press CTRL+C to quit)\n",
      "127.0.0.1 - - [17/Sep/2019 21:25:52] \"GET / HTTP/1.1\" 200 -\n",
      "127.0.0.1 - - [17/Sep/2019 21:25:52] \"GET /album.css HTTP/1.1\" 404 -\n",
      "127.0.0.1 - - [17/Sep/2019 21:25:54] \"GET /aboutus HTTP/1.1\" 200 -\n",
      "127.0.0.1 - - [17/Sep/2019 21:25:54] \"GET /album.css HTTP/1.1\" 404 -\n"
     ]
    }
   ],
   "source": [
    "import os \n",
    "from werkzeug.wsgi import SharedDataMiddleware \n",
    "from flask import Flask, render_template\n",
    "app = Flask(__name__) \n",
    "# @app.route('/') \n",
    "# def hello_world():   \n",
    "#     return 'Hello from Flask!' \n",
    "@app.route('/')\n",
    "def home():\n",
    "    return render_template('myhome.html')\n",
    "@app.route('/aboutus')\n",
    "def aboutus():\n",
    "    return render_template('aboutus.html')\n",
    "if __name__ == '__main__':    \n",
    "    from werkzeug.serving import run_simple    \n",
    "    run_simple('localhost', 9003, app)"
   ]
  },
  {
   "cell_type": "code",
   "execution_count": null,
   "metadata": {
    "collapsed": true
   },
   "outputs": [],
   "source": []
  }
 ],
 "metadata": {
  "kernelspec": {
   "display_name": "Python 3",
   "language": "python",
   "name": "python3"
  },
  "language_info": {
   "codemirror_mode": {
    "name": "ipython",
    "version": 3
   },
   "file_extension": ".py",
   "mimetype": "text/x-python",
   "name": "python",
   "nbconvert_exporter": "python",
   "pygments_lexer": "ipython3",
   "version": "3.6.2"
  }
 },
 "nbformat": 4,
 "nbformat_minor": 2
}
