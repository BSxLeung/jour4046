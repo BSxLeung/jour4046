{
 "cells": [
  {
   "cell_type": "code",
   "execution_count": null,
   "metadata": {
    "scrolled": true
   },
   "outputs": [],
   "source": [
    "import sys \n",
    "\n",
    "!pip install Werkzeug\n",
    "\n"
   ]
  },
  {
   "cell_type": "code",
   "execution_count": null,
   "metadata": {},
   "outputs": [],
   "source": [
    "import os \n",
    "from werkzeug.wsgi import SharedDataMiddleware \n",
    "from ﬂask import Flask \n",
    "app = Flask(__name__) \n",
    "# @app.route('/') \n",
    "# def hello_world():   \n",
    "#     return 'Hello from Flask!' \n",
    "@app.route('/')\n",
    "def home():\n",
    "    return render_template('myhome.html')\n",
    "if __name__ == '__main__':    \n",
    "    from werkzeug.serving import run_simple    \n",
    "    run_simple('localhost', 9003, app)"
   ]
  },
  {
   "cell_type": "code",
   "execution_count": null,
   "metadata": {
    "collapsed": true
   },
   "outputs": [],
   "source": []
  }
 ],
 "metadata": {
  "kernelspec": {
   "display_name": "Python 3",
   "language": "python",
   "name": "python3"
  },
  "language_info": {
   "codemirror_mode": {
    "name": "ipython",
    "version": 3
   },
   "file_extension": ".py",
   "mimetype": "text/x-python",
   "name": "python",
   "nbconvert_exporter": "python",
   "pygments_lexer": "ipython3",
   "version": "3.6.2"
  }
 },
 "nbformat": 4,
 "nbformat_minor": 2
}
